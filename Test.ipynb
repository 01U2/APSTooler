{
 "cells": [
  {
   "cell_type": "markdown",
   "metadata": {},
   "source": [
    "# Setup and import your toolkit\n"
   ]
  },
  {
   "cell_type": "markdown",
   "metadata": {},
   "source": [
    "### Installing toolkit\n"
   ]
  },
  {
   "cell_type": "code",
   "execution_count": null,
   "metadata": {},
   "outputs": [],
   "source": [
    "import os\n",
    "import json\n",
    "from APSTooler import Auth\n",
    "from APSTooler import ACC\n"
   ]
  },
  {
   "cell_type": "markdown",
   "metadata": {},
   "source": [
    "### Define client id and Client secret\n",
    " - define client id and client secret in a config.json file\n",
    "\n"
   ]
  },
  {
   "cell_type": "code",
   "execution_count": null,
   "metadata": {},
   "outputs": [],
   "source": [
    "with open('config.json') as f:\n",
    "    config = json.load(f)\n",
    "client_id = config[\"APS_CLIENT_ID\"]\n",
    "client_secret = config[\"APS_CLIENT_SECRET\"]\n",
    "\n",
    "os.environ ['APS_CLIENT_ID'] = client_id\n",
    "os.environ ['APS_CLIENT_SECRET'] = client_secret"
   ]
  },
  {
   "cell_type": "code",
   "execution_count": null,
   "metadata": {},
   "outputs": [],
   "source": [
    "#Get client ID and Client secret\n",
    "client_id = os.environ.get('APS_CLIENT_ID')\n",
    "client_secret = os.environ.get ('APS_CLIENT_SECRET')\n",
    "\n",
    "#check client id and secret\n",
    "if client_id is None or client_secret is None:\n",
    "    print(\"Error: Client Variables are Undefined\")\n",
    "else:\n",
    "    auth = Auth(client_id, client_secret)\n",
    "    token = auth.auth2leg()\n",
    "    docs = ACC(token)\n",
    "    print (\"valid token\")"
   ]
  },
  {
   "cell_type": "markdown",
   "metadata": {},
   "source": [
    "### Get hubs details of where project is located\n",
    "\n",
    "- returns `Hub ID` and `Hub Name`\n"
   ]
  },
  {
   "cell_type": "code",
   "execution_count": null,
   "metadata": {},
   "outputs": [],
   "source": [
    "hub_id, hub_name = docs.get_hubs()\n",
    "print (f\"Hub ID: {hub_id}\")\n",
    "print (f\"Hub Name: {hub_name}\")"
   ]
  },
  {
   "cell_type": "markdown",
   "metadata": {},
   "source": [
    "### Get project details\n",
    "\n",
    "- accepts project name as an argument\n"
   ]
  },
  {
   "cell_type": "code",
   "execution_count": null,
   "metadata": {},
   "outputs": [],
   "source": [
    "_, project_id, project_name = docs.get_project_details()\n",
    "print (f\"Project ID: {project_id}\")\n",
    "print (f\"Project Name: {project_name}\")"
   ]
  },
  {
   "cell_type": "markdown",
   "metadata": {},
   "source": [
    "### Find Folder ID\n",
    "\n",
    "- takes an argument `folder name`\n",
    "\n",
    "- searches recurisvely for `folder name`\n",
    "\n",
    "- returns `project id`, `folder id`, `folder name`\n"
   ]
  },
  {
   "cell_type": "code",
   "execution_count": null,
   "metadata": {},
   "outputs": [],
   "source": [
    "folder_id = docs.get_folder_details(folder_name = 'Civil3D')\n",
    "folder_id\n"
   ]
  },
  {
   "cell_type": "markdown",
   "metadata": {},
   "source": [
    "### Recursively retrieve all models and model details\n",
    "\n",
    "- optional argument of model name returns model name, else it recrusively returns all items contained in the project.\n"
   ]
  },
  {
   "cell_type": "code",
   "execution_count": null,
   "metadata": {},
   "outputs": [],
   "source": [
    "models = docs.get_all_model_details()\n",
    "models\n"
   ]
  },
  {
   "cell_type": "markdown",
   "metadata": {},
   "source": []
  }
 ],
 "metadata": {
  "kernelspec": {
   "display_name": "Python 3",
   "language": "python",
   "name": "python3"
  },
  "language_info": {
   "codemirror_mode": {
    "name": "ipython",
    "version": 3
   },
   "file_extension": ".py",
   "mimetype": "text/x-python",
   "name": "python",
   "nbconvert_exporter": "python",
   "pygments_lexer": "ipython3",
   "version": "3.12.3"
  }
 },
 "nbformat": 4,
 "nbformat_minor": 2
}
