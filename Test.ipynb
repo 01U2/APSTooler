{
 "cells": [
  {
   "cell_type": "markdown",
   "metadata": {},
   "source": [
    "# Setup and import your toolkit\n"
   ]
  },
  {
   "cell_type": "markdown",
   "metadata": {},
   "source": [
    "### Installing toolkit\n"
   ]
  },
  {
   "cell_type": "markdown",
   "metadata": {},
   "source": [
    "%pip install --upgrade APSTooler"
   ]
  },
  {
   "cell_type": "code",
   "execution_count": 3,
   "metadata": {},
   "outputs": [],
   "source": [
    "import os\n",
    "import json\n",
    "from src.APSTooler import Auth, ACC"
   ]
  },
  {
   "cell_type": "markdown",
   "metadata": {},
   "source": [
    "#### Define client id and Client secret\n",
    " - Define and add your client secret and client id to a config.json file \n",
    " - Define Client id and Client secret in a config.json file\n"
   ]
  },
  {
   "cell_type": "code",
   "execution_count": 4,
   "metadata": {},
   "outputs": [],
   "source": [
    "with open('config.json') as f:\n",
    "    config = json.load(f)\n",
    "client_id = config[\"APS_CLIENT_ID\"]\n",
    "client_secret = config[\"APS_CLIENT_SECRET\"]"
   ]
  },
  {
   "cell_type": "code",
   "execution_count": 5,
   "metadata": {},
   "outputs": [
    {
     "name": "stdout",
     "output_type": "stream",
     "text": [
      "valid token\n"
     ]
    }
   ],
   "source": [
    "#check client id and secret\n",
    "if client_id is None or client_secret is None:\n",
    "    print(\"Error: Client Variables are Undefined\")\n",
    "else:\n",
    "    auth = Auth(client_id, client_secret)\n",
    "    token = auth.auth2leg()\n",
    "    docs = ACC(token)\n",
    "    print (\"valid token\")"
   ]
  },
  {
   "cell_type": "markdown",
   "metadata": {},
   "source": [
    "### Get hubs details of where project is located\n",
    "\n",
    "- returns `Hub ID` and `Hub Name`\n"
   ]
  },
  {
   "cell_type": "code",
   "execution_count": null,
   "metadata": {},
   "outputs": [],
   "source": [
    "hub_id, hub_name = docs.get_hubs()\n",
    "print (f\"Hub ID: {hub_id}\")\n",
    "print (f\"Hub Name: {hub_name}\")"
   ]
  },
  {
   "cell_type": "markdown",
   "metadata": {},
   "source": [
    "### Get project details\n",
    "\n",
    "- accepts project name as an argument\n"
   ]
  },
  {
   "cell_type": "code",
   "execution_count": null,
   "metadata": {},
   "outputs": [],
   "source": [
    "project_details = docs.get_project_details()\n",
    "project_details"
   ]
  },
  {
   "cell_type": "markdown",
   "metadata": {},
   "source": [
    "### Find Folder ID\n",
    "\n",
    "- takes an argument `folder name`\n",
    "\n",
    "- searches recurisvely for `folder name`\n",
    "\n",
    "- returns `project id`, `folder id`, `folder name`\n"
   ]
  },
  {
   "cell_type": "code",
   "execution_count": null,
   "metadata": {},
   "outputs": [],
   "source": [
    "project_name = 'your derived project name'\n",
    "folder_name = 'folder to be searched'\n",
    "folder_id = docs.get_folder_details(folder_name, project_name)\n",
    "folder_id\n"
   ]
  },
  {
   "cell_type": "markdown",
   "metadata": {},
   "source": [
    "### Recursively retrieve all models and model details\n",
    "\n",
    "- optional argument of model name returns model name, else it recrusively returns all non folder items contained in the project.\n"
   ]
  },
  {
   "cell_type": "code",
   "execution_count": null,
   "metadata": {},
   "outputs": [],
   "source": [
    "models = docs.get_all_model_details(folder_name)\n",
    "models"
   ]
  },
  {
   "cell_type": "markdown",
   "metadata": {},
   "source": []
  }
 ],
 "metadata": {
  "kernelspec": {
   "display_name": "Python 3",
   "language": "python",
   "name": "python3"
  },
  "language_info": {
   "codemirror_mode": {
    "name": "ipython",
    "version": 3
   },
   "file_extension": ".py",
   "mimetype": "text/x-python",
   "name": "python",
   "nbconvert_exporter": "python",
   "pygments_lexer": "ipython3",
   "version": "3.11.4"
  }
 },
 "nbformat": 4,
 "nbformat_minor": 2
}
